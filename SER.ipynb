{
  "nbformat": 4,
  "nbformat_minor": 0,
  "metadata": {
    "colab": {
      "name": "Untitled0.ipynb",
      "provenance": [],
      "collapsed_sections": [],
      "authorship_tag": "ABX9TyNtBb5ttBDQb5NJZ/oKNkNB",
      "include_colab_link": true
    },
    "kernelspec": {
      "name": "python3",
      "display_name": "Python 3"
    }
  },
  "cells": [
    {
      "cell_type": "markdown",
      "metadata": {
        "id": "view-in-github",
        "colab_type": "text"
      },
      "source": [
        "<a href=\"https://colab.research.google.com/github/Iasonaspg/ser-repo/blob/main/SER.ipynb\" target=\"_parent\"><img src=\"https://colab.research.google.com/assets/colab-badge.svg\" alt=\"Open In Colab\"/></a>"
      ]
    },
    {
      "cell_type": "code",
      "metadata": {
        "id": "-YyhdsAjCDnZ",
        "colab": {
          "base_uri": "https://localhost:8080/"
        },
        "outputId": "29c6b1b2-d750-4821-c8e2-e23e83f8efe8"
      },
      "source": [
        "from google.colab import drive\n",
        "drive.mount('/content/drive', force_remount=True)"
      ],
      "execution_count": 92,
      "outputs": [
        {
          "output_type": "stream",
          "text": [
            "Mounted at /content/drive\n"
          ],
          "name": "stdout"
        }
      ]
    },
    {
      "cell_type": "code",
      "metadata": {
        "id": "6FnGuGZJDOb0",
        "colab": {
          "base_uri": "https://localhost:8080/"
        },
        "outputId": "02fd7948-c485-4ded-a7ea-0fa9c39f7411"
      },
      "source": [
        "import os\n",
        "os.chdir('/content/drive/My Drive/Acted Emotional Speech Dynamic Database.zip (Unzipped Files)/Acted Emotional Speech Dynamic Database/')\n",
        "!ls "
      ],
      "execution_count": 93,
      "outputs": [
        {
          "output_type": "stream",
          "text": [
            " anger\t disgust   fear   happiness   sad  'Tools and Documentation'\n"
          ],
          "name": "stdout"
        }
      ]
    },
    {
      "cell_type": "code",
      "metadata": {
        "id": "DzYtHFdnDwWM"
      },
      "source": [
        "import numpy as np\n",
        "import scipy\n",
        "import librosa\n",
        "import matplotlib.pyplot as plt\n",
        "from IPython.display import Audio, display"
      ],
      "execution_count": 85,
      "outputs": []
    },
    {
      "cell_type": "code",
      "metadata": {
        "id": "QpM1p_TvIzm-",
        "colab": {
          "base_uri": "https://localhost:8080/",
          "height": 348
        },
        "outputId": "a74ef13a-05ac-428e-a66b-1b52cd6f4a6e"
      },
      "source": [
        "# load audio file\n",
        "from pathlib import Path\n",
        "fs = 22050\n",
        "n_fft, hop = 1024, 256\n",
        "\n",
        "def get_train_wav_dir(dir_name,fs=44100):\n",
        "  return [ librosa.load(p,fs)[0] for p in Path().glob('./' + dir_name + '/train' + '/*.wav') ]\n",
        "\n",
        "def get_test_wav_dir(dir_name,fs=44100):\n",
        "  return [ librosa.load(p,fs)[0] for p in Path().glob('./' + dir_name + '/test' + '/*.wav') ]\n",
        "\n",
        "anger_train_wav = get_train_wav_dir(\"sad\",fs)\n",
        "anger_test_wav = get_test_wav_dir(\"sad\",fs)\n",
        "print(len(anger_train_wav))\n",
        "print(len(anger_train_wav[0]))\n",
        "happy_train_wav = get_train_wav_dir(\"happiness\",fs)\n",
        "happy_test_wav = get_test_wav_dir(\"happiness\",fs)\n",
        "print('fs: ', fs, 'Hz', 'Frame size: ', n_fft/fs, 'Seconds')\n",
        "print(anger_train_wav[0].shape, 'min: ', anger_train_wav[0].min(),' max:', anger_train_wav[0].max())\n",
        "print(happy_train_wav[0].shape, 'min: ', happy_train_wav[0].min(),' max:', happy_train_wav[0].max())\n",
        "# Diplay media player\n",
        "display(Audio(anger_train_wav[0], rate=fs))\n",
        "display(Audio(happy_train_wav[0], rate=fs))\n",
        "plt.plot(anger_train_wav[0])\n",
        "plt.plot(happy_train_wav[0])\n",
        "plt.show()"
      ],
      "execution_count": 86,
      "outputs": [
        {
          "output_type": "error",
          "ename": "NoBackendError",
          "evalue": "ignored",
          "traceback": [
            "\u001b[0;31m---------------------------------------------------------------------------\u001b[0m",
            "\u001b[0;31mNoBackendError\u001b[0m                            Traceback (most recent call last)",
            "\u001b[0;32m<ipython-input-86-537ae40b1ce8>\u001b[0m in \u001b[0;36m<module>\u001b[0;34m()\u001b[0m\n\u001b[1;32m     10\u001b[0m   \u001b[0;32mreturn\u001b[0m \u001b[0;34m[\u001b[0m \u001b[0mlibrosa\u001b[0m\u001b[0;34m.\u001b[0m\u001b[0mload\u001b[0m\u001b[0;34m(\u001b[0m\u001b[0mp\u001b[0m\u001b[0;34m,\u001b[0m\u001b[0mfs\u001b[0m\u001b[0;34m)\u001b[0m\u001b[0;34m[\u001b[0m\u001b[0;36m0\u001b[0m\u001b[0;34m]\u001b[0m \u001b[0;32mfor\u001b[0m \u001b[0mp\u001b[0m \u001b[0;32min\u001b[0m \u001b[0mPath\u001b[0m\u001b[0;34m(\u001b[0m\u001b[0;34m)\u001b[0m\u001b[0;34m.\u001b[0m\u001b[0mglob\u001b[0m\u001b[0;34m(\u001b[0m\u001b[0;34m'./'\u001b[0m \u001b[0;34m+\u001b[0m \u001b[0mdir_name\u001b[0m \u001b[0;34m+\u001b[0m \u001b[0;34m'/test'\u001b[0m \u001b[0;34m+\u001b[0m \u001b[0;34m'/*.wav'\u001b[0m\u001b[0;34m)\u001b[0m \u001b[0;34m]\u001b[0m\u001b[0;34m\u001b[0m\u001b[0;34m\u001b[0m\u001b[0m\n\u001b[1;32m     11\u001b[0m \u001b[0;34m\u001b[0m\u001b[0m\n\u001b[0;32m---> 12\u001b[0;31m \u001b[0manger_train_wav\u001b[0m \u001b[0;34m=\u001b[0m \u001b[0mget_train_wav_dir\u001b[0m\u001b[0;34m(\u001b[0m\u001b[0;34m\"sad\"\u001b[0m\u001b[0;34m,\u001b[0m\u001b[0mfs\u001b[0m\u001b[0;34m)\u001b[0m\u001b[0;34m\u001b[0m\u001b[0;34m\u001b[0m\u001b[0m\n\u001b[0m\u001b[1;32m     13\u001b[0m \u001b[0manger_test_wav\u001b[0m \u001b[0;34m=\u001b[0m \u001b[0mget_test_wav_dir\u001b[0m\u001b[0;34m(\u001b[0m\u001b[0;34m\"sad\"\u001b[0m\u001b[0;34m,\u001b[0m\u001b[0mfs\u001b[0m\u001b[0;34m)\u001b[0m\u001b[0;34m\u001b[0m\u001b[0;34m\u001b[0m\u001b[0m\n\u001b[1;32m     14\u001b[0m \u001b[0mprint\u001b[0m\u001b[0;34m(\u001b[0m\u001b[0mlen\u001b[0m\u001b[0;34m(\u001b[0m\u001b[0manger_train_wav\u001b[0m\u001b[0;34m)\u001b[0m\u001b[0;34m)\u001b[0m\u001b[0;34m\u001b[0m\u001b[0;34m\u001b[0m\u001b[0m\n",
            "\u001b[0;32m<ipython-input-86-537ae40b1ce8>\u001b[0m in \u001b[0;36mget_train_wav_dir\u001b[0;34m(dir_name, fs)\u001b[0m\n\u001b[1;32m      5\u001b[0m \u001b[0;34m\u001b[0m\u001b[0m\n\u001b[1;32m      6\u001b[0m \u001b[0;32mdef\u001b[0m \u001b[0mget_train_wav_dir\u001b[0m\u001b[0;34m(\u001b[0m\u001b[0mdir_name\u001b[0m\u001b[0;34m,\u001b[0m\u001b[0mfs\u001b[0m\u001b[0;34m=\u001b[0m\u001b[0;36m44100\u001b[0m\u001b[0;34m)\u001b[0m\u001b[0;34m:\u001b[0m\u001b[0;34m\u001b[0m\u001b[0;34m\u001b[0m\u001b[0m\n\u001b[0;32m----> 7\u001b[0;31m   \u001b[0;32mreturn\u001b[0m \u001b[0;34m[\u001b[0m \u001b[0mlibrosa\u001b[0m\u001b[0;34m.\u001b[0m\u001b[0mload\u001b[0m\u001b[0;34m(\u001b[0m\u001b[0mp\u001b[0m\u001b[0;34m,\u001b[0m\u001b[0mfs\u001b[0m\u001b[0;34m)\u001b[0m\u001b[0;34m[\u001b[0m\u001b[0;36m0\u001b[0m\u001b[0;34m]\u001b[0m \u001b[0;32mfor\u001b[0m \u001b[0mp\u001b[0m \u001b[0;32min\u001b[0m \u001b[0mPath\u001b[0m\u001b[0;34m(\u001b[0m\u001b[0;34m)\u001b[0m\u001b[0;34m.\u001b[0m\u001b[0mglob\u001b[0m\u001b[0;34m(\u001b[0m\u001b[0;34m'./'\u001b[0m \u001b[0;34m+\u001b[0m \u001b[0mdir_name\u001b[0m \u001b[0;34m+\u001b[0m \u001b[0;34m'/train'\u001b[0m \u001b[0;34m+\u001b[0m \u001b[0;34m'/*.wav'\u001b[0m\u001b[0;34m)\u001b[0m \u001b[0;34m]\u001b[0m\u001b[0;34m\u001b[0m\u001b[0;34m\u001b[0m\u001b[0m\n\u001b[0m\u001b[1;32m      8\u001b[0m \u001b[0;34m\u001b[0m\u001b[0m\n\u001b[1;32m      9\u001b[0m \u001b[0;32mdef\u001b[0m \u001b[0mget_test_wav_dir\u001b[0m\u001b[0;34m(\u001b[0m\u001b[0mdir_name\u001b[0m\u001b[0;34m,\u001b[0m\u001b[0mfs\u001b[0m\u001b[0;34m=\u001b[0m\u001b[0;36m44100\u001b[0m\u001b[0;34m)\u001b[0m\u001b[0;34m:\u001b[0m\u001b[0;34m\u001b[0m\u001b[0;34m\u001b[0m\u001b[0m\n",
            "\u001b[0;32m<ipython-input-86-537ae40b1ce8>\u001b[0m in \u001b[0;36m<listcomp>\u001b[0;34m(.0)\u001b[0m\n\u001b[1;32m      5\u001b[0m \u001b[0;34m\u001b[0m\u001b[0m\n\u001b[1;32m      6\u001b[0m \u001b[0;32mdef\u001b[0m \u001b[0mget_train_wav_dir\u001b[0m\u001b[0;34m(\u001b[0m\u001b[0mdir_name\u001b[0m\u001b[0;34m,\u001b[0m\u001b[0mfs\u001b[0m\u001b[0;34m=\u001b[0m\u001b[0;36m44100\u001b[0m\u001b[0;34m)\u001b[0m\u001b[0;34m:\u001b[0m\u001b[0;34m\u001b[0m\u001b[0;34m\u001b[0m\u001b[0m\n\u001b[0;32m----> 7\u001b[0;31m   \u001b[0;32mreturn\u001b[0m \u001b[0;34m[\u001b[0m \u001b[0mlibrosa\u001b[0m\u001b[0;34m.\u001b[0m\u001b[0mload\u001b[0m\u001b[0;34m(\u001b[0m\u001b[0mp\u001b[0m\u001b[0;34m,\u001b[0m\u001b[0mfs\u001b[0m\u001b[0;34m)\u001b[0m\u001b[0;34m[\u001b[0m\u001b[0;36m0\u001b[0m\u001b[0;34m]\u001b[0m \u001b[0;32mfor\u001b[0m \u001b[0mp\u001b[0m \u001b[0;32min\u001b[0m \u001b[0mPath\u001b[0m\u001b[0;34m(\u001b[0m\u001b[0;34m)\u001b[0m\u001b[0;34m.\u001b[0m\u001b[0mglob\u001b[0m\u001b[0;34m(\u001b[0m\u001b[0;34m'./'\u001b[0m \u001b[0;34m+\u001b[0m \u001b[0mdir_name\u001b[0m \u001b[0;34m+\u001b[0m \u001b[0;34m'/train'\u001b[0m \u001b[0;34m+\u001b[0m \u001b[0;34m'/*.wav'\u001b[0m\u001b[0;34m)\u001b[0m \u001b[0;34m]\u001b[0m\u001b[0;34m\u001b[0m\u001b[0;34m\u001b[0m\u001b[0m\n\u001b[0m\u001b[1;32m      8\u001b[0m \u001b[0;34m\u001b[0m\u001b[0m\n\u001b[1;32m      9\u001b[0m \u001b[0;32mdef\u001b[0m \u001b[0mget_test_wav_dir\u001b[0m\u001b[0;34m(\u001b[0m\u001b[0mdir_name\u001b[0m\u001b[0;34m,\u001b[0m\u001b[0mfs\u001b[0m\u001b[0;34m=\u001b[0m\u001b[0;36m44100\u001b[0m\u001b[0;34m)\u001b[0m\u001b[0;34m:\u001b[0m\u001b[0;34m\u001b[0m\u001b[0;34m\u001b[0m\u001b[0m\n",
            "\u001b[0;32m/usr/local/lib/python3.6/dist-packages/librosa/core/audio.py\u001b[0m in \u001b[0;36mload\u001b[0;34m(path, sr, mono, offset, duration, dtype, res_type)\u001b[0m\n\u001b[1;32m    117\u001b[0m \u001b[0;34m\u001b[0m\u001b[0m\n\u001b[1;32m    118\u001b[0m     \u001b[0my\u001b[0m \u001b[0;34m=\u001b[0m \u001b[0;34m[\u001b[0m\u001b[0;34m]\u001b[0m\u001b[0;34m\u001b[0m\u001b[0;34m\u001b[0m\u001b[0m\n\u001b[0;32m--> 119\u001b[0;31m     \u001b[0;32mwith\u001b[0m \u001b[0maudioread\u001b[0m\u001b[0;34m.\u001b[0m\u001b[0maudio_open\u001b[0m\u001b[0;34m(\u001b[0m\u001b[0mos\u001b[0m\u001b[0;34m.\u001b[0m\u001b[0mpath\u001b[0m\u001b[0;34m.\u001b[0m\u001b[0mrealpath\u001b[0m\u001b[0;34m(\u001b[0m\u001b[0mpath\u001b[0m\u001b[0;34m)\u001b[0m\u001b[0;34m)\u001b[0m \u001b[0;32mas\u001b[0m \u001b[0minput_file\u001b[0m\u001b[0;34m:\u001b[0m\u001b[0;34m\u001b[0m\u001b[0;34m\u001b[0m\u001b[0m\n\u001b[0m\u001b[1;32m    120\u001b[0m         \u001b[0msr_native\u001b[0m \u001b[0;34m=\u001b[0m \u001b[0minput_file\u001b[0m\u001b[0;34m.\u001b[0m\u001b[0msamplerate\u001b[0m\u001b[0;34m\u001b[0m\u001b[0;34m\u001b[0m\u001b[0m\n\u001b[1;32m    121\u001b[0m         \u001b[0mn_channels\u001b[0m \u001b[0;34m=\u001b[0m \u001b[0minput_file\u001b[0m\u001b[0;34m.\u001b[0m\u001b[0mchannels\u001b[0m\u001b[0;34m\u001b[0m\u001b[0;34m\u001b[0m\u001b[0m\n",
            "\u001b[0;32m/usr/local/lib/python3.6/dist-packages/audioread/__init__.py\u001b[0m in \u001b[0;36maudio_open\u001b[0;34m(path, backends)\u001b[0m\n\u001b[1;32m    114\u001b[0m \u001b[0;34m\u001b[0m\u001b[0m\n\u001b[1;32m    115\u001b[0m     \u001b[0;31m# All backends failed!\u001b[0m\u001b[0;34m\u001b[0m\u001b[0;34m\u001b[0m\u001b[0;34m\u001b[0m\u001b[0m\n\u001b[0;32m--> 116\u001b[0;31m     \u001b[0;32mraise\u001b[0m \u001b[0mNoBackendError\u001b[0m\u001b[0;34m(\u001b[0m\u001b[0;34m)\u001b[0m\u001b[0;34m\u001b[0m\u001b[0;34m\u001b[0m\u001b[0m\n\u001b[0m",
            "\u001b[0;31mNoBackendError\u001b[0m: "
          ]
        }
      ]
    },
    {
      "cell_type": "code",
      "metadata": {
        "id": "Rz_t-PJIKn3Q"
      },
      "source": [
        "def spectrogram(wav,n_fft=256,hop_length=128,window='hamming'):\n",
        "    D = librosa.stft(wav, n_fft, hop_length, window='hamming')\n",
        "    spect, _ = librosa.magphase(D, power=1)\n",
        "    return spect\n",
        "\n",
        "spec = spectrogram(wav,256)\n",
        "\n",
        "print('Spectrogram shape', spec.shape)\n",
        "print('{min %.2f} {mean %.2f} {max %.2f}' % (np.amin(spec), np.mean(spec), np.amax(spec)))\n",
        "plt.plot(wav)\n",
        "plt.show()\n",
        "plt.figure(figsize=(10,10))\n",
        "plt.imshow(spec, origin='lower')\n",
        "plt.show()\n",
        "\n",
        "plt.hist(spec)\n",
        "plt.show()\n",
        "\n",
        "log_spec = librosa.power_to_db(spec ** 2, ref=np.min)\n",
        "plt.figure(figsize=(10,10))\n",
        "plt.imshow(log_spec, origin='lower',vmin=-60)\n",
        "plt.show()\n",
        "plt.hist(log_spec)\n",
        "plt.xlabel('Magnitude (dB)')\n",
        "plt.show()"
      ],
      "execution_count": null,
      "outputs": []
    },
    {
      "cell_type": "code",
      "metadata": {
        "id": "ZhPMAYAZRwsc",
        "colab": {
          "base_uri": "https://localhost:8080/"
        },
        "outputId": "0e1c3e30-a05f-4d8b-8ace-8e868c9a0f52"
      },
      "source": [
        "from librosa.feature import spectral\n",
        "\n",
        "# Gets a list of wav signals and returns a numpy array of features x nFrames_total and a list of len(input) containing the nFrames per signal\n",
        "def extract_features(wav,label):\n",
        "  spectral_centroid = spectral.spectral_centroid(wav[0], sr=fs, n_fft=n_fft, hop_length=hop)\n",
        "  spectral_rolloff = spectral.spectral_rolloff(wav[0], sr=fs, hop_length=hop,roll_percent=0.30)\n",
        "  zero_crossing_rate = spectral.zero_crossing_rate(wav[0], frame_length=n_fft, hop_length=hop)\n",
        "  feature_vector = np.concatenate((spectral_centroid,spectral_rolloff,zero_crossing_rate),axis=0)\n",
        "  nFrames = [0 for i in range(len(wav))]\n",
        "  nFrames[0] = spectral_centroid.shape[1]\n",
        "  for i in range(1,len(wav)):\n",
        "    spectral_centroid = spectral.spectral_centroid(wav[i], sr=fs, n_fft=n_fft, hop_length=hop)\n",
        "    spectral_rolloff = spectral.spectral_rolloff(wav[i], sr=fs, hop_length=hop,roll_percent=0.30)\n",
        "    zero_crossing_rate = spectral.zero_crossing_rate(wav[i], frame_length=n_fft, hop_length=hop)\n",
        "    feature_vector1 = np.concatenate((spectral_centroid,spectral_rolloff,zero_crossing_rate),axis=0)\n",
        "    feature_vector = np.concatenate((feature_vector,feature_vector1),axis=1)\n",
        "    nFrames[i] = spectral_centroid.shape[1]\n",
        "  label_vec = [label for i in range(feature_vector.shape[1])]\n",
        "  feature_vector = np.concatenate((feature_vector,np.array([label_vec])),axis=0)\n",
        "  return feature_vector, nFrames\n",
        "\n",
        "\n",
        "\n",
        "anger_train_feat_vec, _ = extract_features(anger_train_wav,0)\n",
        "anger_test_feat_vec, anger_test_nframes = extract_features(anger_test_wav,0)\n",
        "happy_train_feat_vec, _ = extract_features(happy_train_wav,1)\n",
        "happy_test_feat_vec, happy_test_nframes = extract_features(happy_test_wav,1)\n",
        "feature_train_vector = np.concatenate((anger_train_feat_vec,happy_train_feat_vec),axis=1)\n",
        "feature_test_vector = np.concatenate((anger_test_feat_vec,happy_test_feat_vec),axis=1)\n",
        "\n",
        "\n",
        "#print(spectral_centroid.shape)\n",
        "#spectral_bandwidth = spectral.spectral_bandwidth(y=wav, sr=fs, hop_length=hop)\n",
        "#spectral_contrast = spectral.spectral_contrast(y=wav, sr=fs, hop_length=hop, fmin=80.)\n",
        "#spectral_flatness = spectral.spectral_flatness(y=wav, hop_length=hop)\n",
        "#chromagram = librosa.feature.chroma_stft(wav, sr=fs, hop_length=hop)\n",
        "# NO: rms = rms(y=wav, sr=fs, hop_length=hop)\n",
        "# NO: Variance etc\n",
        "#print(spectral_bandwidth.shape)\n",
        "#print(spectral_contrast.shape)\n",
        "#print(spectral_rolloff.shape)\n",
        "#print(spectral_flatness.shape)\n",
        "#print(zero_crossing_rate.shape)\n",
        "#print(chromagram.shape)\n",
        "\n",
        "#feature_vector = np.concatenate((spectral_centroid, \n",
        "#                                 spectral_bandwidth,\n",
        "#                                 spectral_contrast,\n",
        "#                                 spectral_rolloff,\n",
        "#                                 spectral_flatness,\n",
        "#                                 zero_crossing_rate,\n",
        "#                                 chromagram), axis=0)\n",
        "\n",
        "#feature_vector = np.concatenate((spectral_centroid,spectral_rolloff,zero_crossing_rate),axis=0)\n",
        "#feature_vector2 = np.concatenate((spectral_centroid2,spectral_rolloff2,zero_crossing_rate2),axis=0)\n",
        "\n",
        "\n",
        "print(anger_train_feat_vec.shape)\n",
        "print(happy_train_feat_vec.shape)\n",
        "print('=')\n",
        "print(feature_train_vector.shape)\n",
        "#print(feature_vector[:,0:2])"
      ],
      "execution_count": 72,
      "outputs": [
        {
          "output_type": "stream",
          "text": [
            "(4, 33222)\n",
            "(4, 35545)\n",
            "=\n",
            "(4, 68767)\n"
          ],
          "name": "stdout"
        }
      ]
    },
    {
      "cell_type": "code",
      "metadata": {
        "colab": {
          "base_uri": "https://localhost:8080/"
        },
        "id": "XXKpJepLUQuV",
        "outputId": "e39b9977-3460-4615-a480-851cfec67efa"
      },
      "source": [
        "import sklearn\n",
        "\n",
        "#X_train, X_test, Y_train, Y_test  = sklearn.model_selection.train_test_split(feature_vector[0:3,:].T, feature_vector[3,:].T, train_size=0.7, shuffle=False)\n",
        "\n",
        "#normalizer = sklearn.preprocessing.Normalizer().fit(trainset)\n",
        "\n",
        "#train_norm = normalizer.transform(trainset) \n",
        "#test_norm = normalizer.transform(testset)\n",
        "\n",
        "print(X_train.shape, X_test.shape)\n",
        "print(Y_train.shape, Y_test.shape)\n",
        "#plt.hist(trainset)\n",
        "#plt.show()\n",
        "#plt.hist(testset)\n",
        "#plt.show()"
      ],
      "execution_count": 19,
      "outputs": [
        {
          "output_type": "stream",
          "text": [
            "(55111, 3) (23619, 3)\n",
            "(55111,) (23619,)\n"
          ],
          "name": "stdout"
        }
      ]
    },
    {
      "cell_type": "code",
      "metadata": {
        "colab": {
          "base_uri": "https://localhost:8080/"
        },
        "id": "IKCKi0wUdfVW",
        "outputId": "464f744c-59b4-4456-8001-dae31d102bbb"
      },
      "source": [
        "from sklearn import svm\n",
        "import time\n",
        "#X = np.concatenate((feature_vector[:,0:50000],happy_feat_vec[:,0:50000]),axis=1)\n",
        "#y = np.concatenate((np.zeros((50000)),np.ones((50000))),axis=0)\n",
        "\n",
        "#print(X.shape)\n",
        "#print(y.shape)\n",
        "clf = svm.SVC()\n",
        "str = time.time()\n",
        "clf.fit(feature_train_vector[0:3,:].T, feature_train_vector[3,:].T)\n",
        "print(time.time()-str)\n",
        "#print(feature_vector[:,3:5])\n",
        "#clf.predict(feature_vector[:,200:240].T)"
      ],
      "execution_count": 73,
      "outputs": [
        {
          "output_type": "stream",
          "text": [
            "193.1162874698639\n"
          ],
          "name": "stdout"
        }
      ]
    },
    {
      "cell_type": "code",
      "metadata": {
        "id": "0d3inecO188_"
      },
      "source": [
        "import statistics \n",
        "from statistics import mode \n",
        "\n",
        "def get_label(y):\n",
        "  return mode(y)\n",
        "\n"
      ],
      "execution_count": 39,
      "outputs": []
    },
    {
      "cell_type": "code",
      "metadata": {
        "colab": {
          "base_uri": "https://localhost:8080/"
        },
        "id": "BPgNPjzFp8jw",
        "outputId": "dd9e6190-123b-47e1-eac6-ae3fbb6b727d"
      },
      "source": [
        "from sklearn.metrics import accuracy_score\n",
        "\n",
        "i = 0\n",
        "for j in anger_test_nframes:\n",
        "  pred = clf.predict(feature_test_vector[0:3,i:i+j].T)\n",
        "  print(accuracy_score(feature_test_vector[3,i:i+j].T,pred,True))\n",
        "  i = i + j\n",
        "\n",
        "\n",
        "#pred = clf.predict(feature_test_vector[0:3:,:].T)\n",
        "#print(accuracy_score(feature_test_vector[3:,:].T,pred,True))\n"
      ],
      "execution_count": 74,
      "outputs": [
        {
          "output_type": "stream",
          "text": [
            "0.36242884250474383\n",
            "0.25621414913957935\n",
            "0.27076923076923076\n",
            "0.6\n",
            "0.3581183611532625\n",
            "0.306282722513089\n",
            "0.6009389671361502\n",
            "0.6045454545454545\n",
            "0.16470588235294117\n",
            "0.33248081841432225\n",
            "0.3359073359073359\n",
            "0.2652439024390244\n",
            "0.28225806451612906\n",
            "0.5945945945945946\n",
            "0.37333333333333335\n",
            "0.32158590308370044\n",
            "0.284\n"
          ],
          "name": "stdout"
        }
      ]
    },
    {
      "cell_type": "code",
      "metadata": {
        "colab": {
          "base_uri": "https://localhost:8080/"
        },
        "id": "DK4sAZjITikN",
        "outputId": "4967fb8e-bd68-449c-91de-e4bee24c93d0"
      },
      "source": [
        "a = librosa.load('./anger/a01 (1).wav',44100)\n",
        "type(a[0])\n",
        "len(a)\n",
        "print(a[1])"
      ],
      "execution_count": null,
      "outputs": [
        {
          "output_type": "stream",
          "text": [
            "44100\n"
          ],
          "name": "stdout"
        }
      ]
    }
  ]
}